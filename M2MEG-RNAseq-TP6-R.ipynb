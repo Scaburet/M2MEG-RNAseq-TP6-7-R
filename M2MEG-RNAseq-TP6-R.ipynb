{
 "cells": [
  {
   "cell_type": "markdown",
   "metadata": {},
   "source": [
    "# RNAseq Analysis Module"
   ]
  },
  {
   "cell_type": "markdown",
   "metadata": {},
   "source": [
    "## Practical session 6: Introduction to R\n",
    "Thrusday, the 3rd of December, 2020   \n",
    "Claire Vandiedonck and Sandrine Caburet - 2020"
   ]
  },
  {
   "cell_type": "markdown",
   "metadata": {},
   "source": [
    "          1. Some very simple examples \n",
    "          2. Assigning data into R objects, using and reading them  \n",
    "          3. Managing objects in your R Session\n",
    "          4. Saving your data, session, and history\n",
    "              4.1 Data: specific variables or functions to save\n",
    "              4.2 Session: save all variables and functions\n",
    "              4.3 History: save all past commands\n",
    "          5. Managing your session\n",
    "          6. Classes of R objects\n",
    "             6.1 Numeric and character\n",
    "             6.2 Vectors\n",
    "             6.3 Matrices\n",
    "             6.4 Dataframes\n",
    "          7. Some basic plotting\n",
    "          8. Reading a text file into RData"
   ]
  },
  {
   "cell_type": "markdown",
   "metadata": {},
   "source": [
    "## I - Some very simple examples"
   ]
  },
  {
   "cell_type": "code",
   "execution_count": null,
   "metadata": {},
   "outputs": [],
   "source": [
    "2+2\n",
    "exp(-2)\n",
    "log(100,base=10)\n",
    "?exp"
   ]
  },
  {
   "cell_type": "markdown",
   "metadata": {},
   "source": [
    "## II - Assigning data into R objects, using and reading them"
   ]
  },
  {
   "cell_type": "code",
   "execution_count": null,
   "metadata": {},
   "outputs": [],
   "source": [
    "x <- 2\n",
    "y <- x+3\n",
    "s <- \"this is a string of characters\"\n",
    "x\n",
    "y\n",
    "x+x\n",
    "x^y\n",
    "x<-4\n",
    "y\n",
    "y<-x+3\n",
    "y\n",
    "s"
   ]
  },
  {
   "cell_type": "markdown",
   "metadata": {},
   "source": [
    "## III - Managing objects in your R Session"
   ]
  },
  {
   "cell_type": "code",
   "execution_count": null,
   "metadata": {},
   "outputs": [],
   "source": [
    "ls()\n",
    "rm(y)\n",
    "ls()\n",
    "y <- x+3"
   ]
  },
  {
   "cell_type": "markdown",
   "metadata": {},
   "source": [
    "## IV - Saving your data, session, and history"
   ]
  },
  {
   "cell_type": "markdown",
   "metadata": {},
   "source": [
    "### IV.1 - Data: specific variables or functions to save"
   ]
  },
  {
   "cell_type": "code",
   "execution_count": null,
   "metadata": {},
   "outputs": [],
   "source": [
    "save(x,file=\"x.RData\")\n",
    "rm(x)\n",
    "load(\"x.RData\")\n",
    "x #x is again accessible\n",
    "file.remove(\"x.RData\") #remove file: returns TRUE on successful removal"
   ]
  },
  {
   "cell_type": "markdown",
   "metadata": {},
   "source": [
    "### IV.2 - Session: save all variables and functions"
   ]
  },
  {
   "cell_type": "code",
   "execution_count": null,
   "metadata": {},
   "outputs": [],
   "source": [
    "ls()\n",
    "save.image(file=\"AllMyData.RData\")\n",
    "rm(list=ls())\n",
    "ls() #all variables have been removed\n",
    "load(\"AllMyData.RData\")\n",
    "ls() #all variables are accessible again\n",
    "file.remove(\"AllMyData.RData\")"
   ]
  },
  {
   "cell_type": "markdown",
   "metadata": {},
   "source": [
    "### IV.3 - History: save all past commands"
   ]
  },
  {
   "cell_type": "markdown",
   "metadata": {},
   "source": [
    "Not run: does not work in R notebooks! Run the following commands (between brackets) in R shell (Terminal > R) or in RStudio (change \"lab\" in URL to \"rstudio\")."
   ]
  },
  {
   "cell_type": "raw",
   "metadata": {},
   "source": [
    "ls()\n",
    "savehistory(file=\"MyHistory.Rhistory\") #save all previously run commands in a special formatted file\n",
    "loadhistory(\"MyHistory.Rhistory\") #load all commands stored in the specified file\n",
    "hist <- read.delim(\"MyHistory.Rhistory\") #see how the file is formatted: number of line and associated command\n",
    "head(hist)"
   ]
  },
  {
   "cell_type": "markdown",
   "metadata": {},
   "source": [
    "## V - Managing your session"
   ]
  },
  {
   "cell_type": "code",
   "execution_count": null,
   "metadata": {},
   "outputs": [],
   "source": [
    "sessionInfo()\n",
    "initial_path <- getwd()\n",
    "initial_path #current working directory\n",
    "setwd('/srv/home/') #change current working directory\n",
    "getwd() #change is visible\n",
    "setwd(initial_path) #reset to initial working directory\n",
    "rm(initial_path)"
   ]
  },
  {
   "cell_type": "markdown",
   "metadata": {},
   "source": [
    "## VI - Classes of R objects"
   ]
  },
  {
   "cell_type": "markdown",
   "metadata": {},
   "source": [
    "### VI.1 - Numeric and character"
   ]
  },
  {
   "cell_type": "code",
   "execution_count": null,
   "metadata": {},
   "outputs": [],
   "source": [
    "x <- c(3,7,1,2)\n",
    "x<2\n",
    "x==2\n",
    "s <- \"this is a string of characters\"\n",
    "class(x)\n",
    "class(s)\n",
    "as.numeric(x<2)"
   ]
  },
  {
   "cell_type": "markdown",
   "metadata": {},
   "source": [
    "### VI.2 - Vectors"
   ]
  },
  {
   "cell_type": "code",
   "execution_count": null,
   "metadata": {},
   "outputs": [],
   "source": [
    "a <- c()\n",
    "a\n",
    "weight <- c(60, 72, 57, 90, 95, 72)\n",
    "weight\n",
    "4:10\n",
    "seq(4,10)\n",
    "seq(2,10,2)\n",
    "rep(4,2)"
   ]
  },
  {
   "cell_type": "code",
   "execution_count": null,
   "metadata": {},
   "outputs": [],
   "source": [
    "rep(seq(4,10,2))\n",
    "c(rep(1,4),rep(2,4))\n",
    "c(5,s)\n",
    "class(c(5,s))\n",
    "length(1:10)\n",
    "length(weight)\n",
    "str(weight)"
   ]
  },
  {
   "cell_type": "code",
   "execution_count": null,
   "metadata": {},
   "outputs": [],
   "source": [
    "size <- c(1.75, 1.8, 1.65, 1.9, 1.74, 1.91)\n",
    "size^2\n",
    "bmi <- weight/size^2 \n",
    "bmi"
   ]
  },
  {
   "cell_type": "code",
   "execution_count": null,
   "metadata": {},
   "outputs": [],
   "source": [
    "sort(size)\n",
    "mean(size)\n",
    "sd(size)\n",
    "median(size)\n",
    "min(size)\n",
    "max(size)\n",
    "range(size)\n",
    "summary(size)"
   ]
  },
  {
   "cell_type": "code",
   "execution_count": null,
   "metadata": {},
   "outputs": [],
   "source": [
    "size[1]\n",
    "size[2]\n",
    "size[6]\n",
    "size[c(2,6)]\n",
    "size[c(6,2)]\n",
    "min(size[c(6,2)])"
   ]
  },
  {
   "cell_type": "code",
   "execution_count": null,
   "metadata": {},
   "outputs": [],
   "source": [
    "names(size)\n",
    "names(size) <- c(\"Fabien\",\"Pierre\",\"Sandrine\",\"Claire\",\"Bruno\",\"Delphine\")\n",
    "size\n",
    "str(size)"
   ]
  },
  {
   "cell_type": "markdown",
   "metadata": {},
   "source": [
    "### VI.3 - Matrices"
   ]
  },
  {
   "cell_type": "code",
   "execution_count": null,
   "metadata": {},
   "outputs": [],
   "source": [
    "myData <- matrix(c(1,2,3, 11,12,13), nrow = 2, ncol = 3, byrow = TRUE)\n",
    "myData\n",
    "myData <- matrix(c(1,2,3, 11,12,13), nrow = 2, ncol = 3, byrow = FALSE)\n",
    "myData"
   ]
  },
  {
   "cell_type": "code",
   "execution_count": null,
   "metadata": {},
   "outputs": [],
   "source": [
    "myData[1,2]\n",
    "myData[2,1]\n",
    "myData[,1]\n",
    "myData[2,]\n",
    "myData[,2:3]\n",
    "dim(myData[,2:3])"
   ]
  },
  {
   "cell_type": "code",
   "execution_count": null,
   "metadata": {},
   "outputs": [],
   "source": [
    "dim(myData)\n",
    "class(myData)\n",
    "class(myData[,1]) \n",
    "str(myData)\n",
    "nrow(myData)\n",
    "ncol(myData)\n",
    "length(myData[1,])\n",
    "length(myData[,1])"
   ]
  },
  {
   "cell_type": "code",
   "execution_count": null,
   "metadata": {},
   "outputs": [],
   "source": [
    "myData2 <- cbind(weight, size, bmi)\n",
    "myData2\n",
    "myData3 <- rbind(weight, size, bmi)\n",
    "myData3"
   ]
  },
  {
   "cell_type": "code",
   "execution_count": null,
   "metadata": {},
   "outputs": [],
   "source": [
    "myData2*2\n",
    "summary(myData2)\n",
    "mean(myData2)\n",
    "mean(myData2[,1])"
   ]
  },
  {
   "cell_type": "markdown",
   "metadata": {},
   "source": [
    "### VI.4 - Dataframes"
   ]
  },
  {
   "cell_type": "code",
   "execution_count": null,
   "metadata": {},
   "outputs": [],
   "source": [
    "myDataf <- data.frame(weight, size, bmi)\n",
    "myDataf\n",
    "class(myDataf)\n",
    "str(myDataf)\n",
    "dim(myDataf)"
   ]
  },
  {
   "cell_type": "code",
   "execution_count": null,
   "metadata": {},
   "outputs": [],
   "source": [
    "class(myData2)\n",
    "class(as.data.frame(myData2))\n",
    "d <- as.data.frame(matrix(NA,2,3))\n",
    "d\n",
    "dim(d)\n",
    "str(d)"
   ]
  },
  {
   "cell_type": "code",
   "execution_count": null,
   "metadata": {},
   "outputs": [],
   "source": [
    "myDataf[,2]\n",
    "myDataf[,\"size\"]\n",
    "myDataf$size"
   ]
  },
  {
   "cell_type": "code",
   "execution_count": null,
   "metadata": {},
   "outputs": [],
   "source": [
    "gender <- c(\"Man\",\"Man\",\"Woman\",\"Woman\",\"Man\",\"Woman\")\n",
    "gender\n",
    "myDataf$sex <- gender\n",
    "myDataf$sex\n",
    "myDataf\n",
    "str(myDataf)"
   ]
  },
  {
   "cell_type": "code",
   "execution_count": null,
   "metadata": {},
   "outputs": [],
   "source": [
    "which ( myDataf$sex == \"Woman\") \n",
    "myDataf [ which ( myDataf$sex == \"Woman\") , ] \n",
    "str(myDataf [ which ( myDataf$sex == \"Woman\") , ])\n",
    "which ( myDataf$sex != \"Man\")\n",
    "which (! myDataf$sex == \"Man\")"
   ]
  },
  {
   "cell_type": "code",
   "execution_count": null,
   "metadata": {},
   "outputs": [],
   "source": [
    "grep(\"Wom\", myDataf$sex)\n",
    "grep(\"Woman\", myDataf$sex)\n",
    "myDataf [grep(\"Woman\", myDataf$sex), ] \n",
    "grep(\"a\", row.names(myDataf))\n",
    "myDataf [grep(\"a\", row.names(myDataf)),]"
   ]
  },
  {
   "cell_type": "code",
   "execution_count": null,
   "metadata": {},
   "outputs": [],
   "source": [
    "WomenDataf <- subset(myDataf, gender== \"Woman\")\n",
    "WomenDataf\n",
    "filteredData <- myDataf [ which ( myDataf$sex == \"Woman\" & myDataf$weight < 80 & myDataf$bmi > 20), ]\n",
    "filteredData\n",
    "subset( myDataf, sex == \"Woman\" & weight < 80 & bmi > 20)"
   ]
  },
  {
   "cell_type": "markdown",
   "metadata": {},
   "source": [
    "Merging dataframes:"
   ]
  },
  {
   "cell_type": "code",
   "execution_count": null,
   "metadata": {},
   "outputs": [],
   "source": [
    "myDataf$index <- 1:6\n",
    "myDataf\n",
    "OtherData <- data.frame(c(1:5, 7),rep(c(\"right-handed\",\"left-handed\"),3))\n",
    "names(OtherData) <- c(\"ID\",\"handedness\")\n",
    "OtherData\n",
    "myMergedDataf <- merge(myDataf, OtherData, by.x=\"index\", by.y=\"ID\", all.x=T, all.y=T, sort=F)\n",
    "myMergedDataf"
   ]
  },
  {
   "cell_type": "markdown",
   "metadata": {},
   "source": [
    "## VII - Some basic plotting"
   ]
  },
  {
   "cell_type": "code",
   "execution_count": null,
   "metadata": {},
   "outputs": [],
   "source": [
    "plot(myDataf$weight~myDataf$size)  \n",
    "boxplot(myDataf$weight)\n",
    "boxplot(myDataf$weight~myDataf$sex) \n",
    "a <- rnorm(1000) \n",
    "hist(a, breaks=20) "
   ]
  },
  {
   "cell_type": "markdown",
   "metadata": {},
   "source": [
    "## VIII - Reading a text file into RData"
   ]
  },
  {
   "cell_type": "code",
   "execution_count": null,
   "metadata": {},
   "outputs": [],
   "source": [
    "getwd()\n",
    "path_to_file <- \"data/Temperatures.txt\" #from working directory\n",
    "temperatures <- read.table(path_to_file, sep=\"\\t\", header=T, stringsAsFactors=F)\n",
    "temperatures\n",
    "str(temperatures)\n",
    "temperatures <- read.table(path_to_file, sep=\"\\t\", header=T)\n",
    "str(temperatures)\n",
    "levels(temperatures$Month)\n",
    "# save a dataframe as a text file in the working directory\n",
    "write.table(myDataf, file=\"bmi_data.txt\", sep=\"\\t\", quote=F, col.names=T)\n",
    "rm(myDataf)\n",
    "myDataf <- read.table(\"bmi_data.txt\", sep=\"\\t\", header=T, stringsAsFactors=F)\n",
    "head(myDataf) #myDataf is again accessible\n",
    "file.remove(\"bmi_data.txt\") #to clean the working directory"
   ]
  }
 ],
 "metadata": {
  "kernelspec": {
   "display_name": "R",
   "language": "R",
   "name": "ir"
  },
  "language_info": {
   "codemirror_mode": "r",
   "file_extension": ".r",
   "mimetype": "text/x-r-source",
   "name": "R",
   "pygments_lexer": "r",
   "version": "3.6.1"
  }
 },
 "nbformat": 4,
 "nbformat_minor": 4
}
