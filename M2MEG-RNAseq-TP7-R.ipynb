{
 "cells": [
  {
   "cell_type": "markdown",
   "metadata": {},
   "source": [
    "# RNAseq Analysis Module"
   ]
  },
  {
   "cell_type": "markdown",
   "metadata": {},
   "source": [
    "## Practical session 7: Differential analysis with high-throughput technologies (microarrays and RNAseq)\n",
    "Thrusday, the 3rd of December, 2020   \n",
    "Claire Vandiedonck and Sandrine Caburet - 2020 "
   ]
  },
  {
   "cell_type": "markdown",
   "metadata": {},
   "source": [
    "          0. R session   \n",
    "          1. Getting your microarrays and RNASeq data   \n",
    "          2. Differential Expression analysis with microarray experiments \n",
    "          3. Differential analysis with RNA Seq experiments (count data)\n",
    "          4. Compare RNASeq and microarray DE results"
   ]
  },
  {
   "cell_type": "markdown",
   "metadata": {},
   "source": [
    "## 0 - R session"
   ]
  },
  {
   "cell_type": "markdown",
   "metadata": {},
   "source": [
    "Start R and set your working directory:"
   ]
  },
  {
   "cell_type": "code",
   "execution_count": null,
   "metadata": {},
   "outputs": [],
   "source": [
    "#setwd() # specify the \"path\" to your working directory within the brackets\n",
    "getwd()"
   ]
  },
  {
   "cell_type": "markdown",
   "metadata": {},
   "source": [
    "Call required packages (which are already installed in this environment). Some warnings can arise due to changes in R versions, but as a general rule the functions in these packages will still work."
   ]
  },
  {
   "cell_type": "code",
   "execution_count": null,
   "metadata": {},
   "outputs": [],
   "source": [
    "library(gplots) # used for advanced graphs\n",
    "library(locfit) # used for regression analysis\n",
    "library(limma) # used for expression microarrays differential analysis (now also for RNASeq: we will stick to microarray data here)\n",
    "library(DESeq) # used for expression RNASeq differential analysis"
   ]
  },
  {
   "cell_type": "markdown",
   "metadata": {},
   "source": [
    "However, in your scripts, you might not use this environment. When you are not sure about whether a package has been installed, you can use this syntax to call the package if it is already present, otherwise install it and call it."
   ]
  },
  {
   "cell_type": "raw",
   "metadata": {},
   "source": [
    "if ( !require(\"locfit\", quietly = T)) {\n",
    "  install.packages(\"locfit\")\n",
    "}"
   ]
  },
  {
   "cell_type": "markdown",
   "metadata": {},
   "source": [
    "Some packages are not available via the R CRAN package repository, specifically the ones used in bioinformatic analyses, but via Bioconductor. In order to install a package from Bioconductor, you can proceed as follows:"
   ]
  },
  {
   "cell_type": "raw",
   "metadata": {},
   "source": [
    "## R version > 3.5\n",
    "# the BiocManager package will allow you to install Bioconductor packages\n",
    "if (!requireNamespace(\"BiocManager\")) {\n",
    "  install.packages(\"BiocManager\")\n",
    "}\n",
    "if (!requireNamespace(\"limma\")) {\n",
    "  BiocManager::install(\"limma\")\n",
    "}\n",
    "\n",
    "## R version < 3.5\n",
    "source(\"https://bioconductor.org/biocLite.R\")\n",
    "# to install the minimum set of bioconductor packages\n",
    "# you may have to answer some questions to install or update dependencies\n",
    "biocLite()\n",
    "biocLite(\"limma\")"
   ]
  },
  {
   "cell_type": "markdown",
   "metadata": {},
   "source": [
    "This command will return the R and R-packages versions used in your R session. You can check that indeed the packages called in a previous command are present:"
   ]
  },
  {
   "cell_type": "code",
   "execution_count": null,
   "metadata": {},
   "outputs": [],
   "source": [
    "sessionInfo()"
   ]
  },
  {
   "cell_type": "markdown",
   "metadata": {},
   "source": [
    "## I - Getting your microarrays and RNASeq data"
   ]
  },
  {
   "cell_type": "markdown",
   "metadata": {},
   "source": [
    "Remember that here, our microarray and RNAseq data are stored in different folders:"
   ]
  },
  {
   "cell_type": "code",
   "execution_count": null,
   "metadata": {},
   "outputs": [],
   "source": [
    "path_to_microarray = \"/srv/data/meg-m2-rnaseq/analysis_data/\"\n",
    "path_to_RNAseq = \"~/m2meg-rnaseq-tp3to5-bash/Results/\"\n",
    "dataArrays <- read.table(paste0(path_to_microarray, \"Microarrays_logValues_parapsilosis.txt\"), header = T, row.names = 1)\n",
    "# Merge all counts data\n",
    "counts_names = c(\"Hypoxia_1\", \"Normoxia_1\", \"SRR352261\", \"SRR352264\", \"SRR352266\", \n",
    "                 \"SRR352267\", \"SRR352270\", \"SRR352273\", \"SRR352274\", \"SRR352276\")\n",
    "# Using the sample sheet completed on Monday\n",
    "new_names = c(\"Hypoxia_1\", \"Normoxia_1\", \"Normoxia_2\", \"Normoxia_3\", \"Normoxia_4\", \n",
    "                 \"Hypoxia_2\", \"Hypoxia_3\", \"Normoxia_5\", \"Hypoxia_4\", \"Normoxia_6\")\n",
    "suffix = \"_gene_counts.tsv\"\n",
    "dataRNAseq <- read.table(paste0(path_to_RNAseq, counts_names[1], suffix), header = T, row.names = 1)\n",
    "for (i in 2:10) {\n",
    "    datacounts <- read.table(paste0(path_to_RNAseq, counts_names[i], suffix), header = T, row.names = 1)\n",
    "    dataRNAseq <- merge(dataRNAseq, datacounts, by.x=\"row.names\", all.x=T, sort=T)\n",
    "}\n",
    "# Rename the columns according to the condition\n",
    "colnames(dataRNAseq) <- new_names\n",
    "# look at the R objects you generated\n",
    "head(dataArrays)\n",
    "head(dataRNAseq)\n",
    "tail(dataArrays)\n",
    "tail(dataRNAseq)"
   ]
  },
  {
   "cell_type": "markdown",
   "metadata": {},
   "source": [
    "Note that genes listed in both files are identical, with the same order. This can be automatically checked with the following command line counting all occurences that are identical (TRUE) and not (FALSE):"
   ]
  },
  {
   "cell_type": "code",
   "execution_count": null,
   "metadata": {},
   "outputs": [],
   "source": [
    "table(row.names(dataArrays) == row.names(dataRNAseq))"
   ]
  },
  {
   "cell_type": "code",
   "execution_count": null,
   "metadata": {},
   "outputs": [],
   "source": [
    "# rename colnames\n",
    "colnames(dataArrays) <- c(\"log(H/N)_rep1\", \"log(H/N)_rep2\", \"log(H/N)_rep3\", \"log(H/N)_rep4\")\n",
    "colnames(dataRNAseq) <- c(\"countN_rep1\", \"countN_rep2\", \"countN_rep3\", \"countN_rep4\", \"countN_rep5\", \"countN_rep6\", \"countH_rep1\", \"countH_rep2\",\"countH_rep3\", \"countH_rep4\")\n",
    "#check the structure of the new R objects\n",
    "str(dataArrays)\n",
    "str(dataRNAseq)"
   ]
  },
  {
   "cell_type": "markdown",
   "metadata": {},
   "source": [
    "## II - Differential Expression analysis with microarray experiments"
   ]
  },
  {
   "cell_type": "markdown",
   "metadata": {},
   "source": [
    "### Q1. Were microarrays normalised?"
   ]
  },
  {
   "cell_type": "markdown",
   "metadata": {},
   "source": [
    "A1. To answer this first question, we will generate two figures of the distribution of the log2(intensity ratios):"
   ]
  },
  {
   "cell_type": "markdown",
   "metadata": {},
   "source": [
    "#### A1.1. Histogram "
   ]
  },
  {
   "cell_type": "code",
   "execution_count": null,
   "metadata": {},
   "outputs": [],
   "source": [
    "xValues  <- seq(floor(min(dataArrays)), ceiling(max(dataArrays)), by = 0.1) \n",
    "par(mfrow = c(2,2))\n",
    "for (i in 1:ncol(dataArrays)) {\n",
    "        hist(dataArrays[,i], breaks = xValues, \n",
    "        xlab = \"log2(H/N) value\", \n",
    "        main = paste(\"log2(H/N) values\\n array #\", i))\n",
    "}\n",
    "par(mfrow = c(1,1))"
   ]
  },
  {
   "cell_type": "markdown",
   "metadata": {},
   "source": [
    "#### A1.2. One boxplot per array"
   ]
  },
  {
   "cell_type": "code",
   "execution_count": null,
   "metadata": {},
   "outputs": [],
   "source": [
    "boxplot(dataArrays,outline = F, main = \"Boxplot of log2FC distributions for each microarray replicate\", ylab = \"log2FC\")"
   ]
  },
  {
   "cell_type": "markdown",
   "metadata": {},
   "source": [
    "Some descriptive values of the distribution can also be generated automatically:"
   ]
  },
  {
   "cell_type": "code",
   "execution_count": null,
   "metadata": {},
   "outputs": [],
   "source": [
    "summary(dataArrays)"
   ]
  },
  {
   "cell_type": "markdown",
   "metadata": {},
   "source": [
    "### Q2. Are data correlated between replicates?"
   ]
  },
  {
   "cell_type": "markdown",
   "metadata": {},
   "source": [
    "A2. We generate a matrix of pairwise (Pearson's R) correlations, display the pairwise correlation plots, and add the *p*-values of the Pearson statistical tests:"
   ]
  },
  {
   "cell_type": "code",
   "execution_count": null,
   "metadata": {},
   "outputs": [],
   "source": [
    "panel.cor <- function(x, y, digits=2, prefix2=\"\", cex.cor) {\n",
    "     usr <- par(\"usr\"); on.exit(par(usr)) \n",
    "     par(usr = c(0, 1, 0, 1)) \n",
    "     r <- abs(cor(x, y)) \n",
    "     txt <- format(c(r, 0.123456789), digits = digits)[1] \n",
    "     txt <- paste(prefix2, txt, sep = \"\") \n",
    "     if (missing(cex.cor)) cex <- 0.8/strwidth(txt) \n",
    "     test <- cor.test(x,y) \n",
    "     Signif <- symnum(test$p.value, corr = FALSE, na = FALSE, \n",
    "     cutpoints = c(0, 0.001, 0.01, 0.05, 0.1, 1),\n",
    "     symbols = c(\"***\", \"**\", \"*\", \".\", \" \")) \n",
    "     text(0.5, 0.5, txt, cex = cex * r) \n",
    "     text(.8, .8, Signif, cex = cex, col = 2) \n",
    "      }\n",
    "pairs(as.matrix(dataArrays), labels = colnames(dataArrays), lower.panel = panel.smooth, upper.panel = panel.cor, main = \"pairwise correlation of microarray replicates\")"
   ]
  },
  {
   "cell_type": "markdown",
   "metadata": {},
   "source": [
    "### Q3. Is there a relationship between the mean and the standard deviation of the log(H/N)? Is this a problem?"
   ]
  },
  {
   "cell_type": "markdown",
   "metadata": {},
   "source": [
    "Compute and plot some descriptive statistic for each gene among the 4 replicates:"
   ]
  },
  {
   "cell_type": "code",
   "execution_count": null,
   "metadata": {},
   "outputs": [],
   "source": [
    "# mean value for log(H/N) replicates for each gene\n",
    "averageLog <- apply(dataArrays, 1, mean) \n",
    "# standard deviation for log(H/N) replicates for each gene\n",
    "sdValues <- apply(dataArrays, 1, sd)  \n",
    "plot(sdValues, averageLog, \n",
    "        main = \"C. parapsilosis - Microarrays dataset\",\n",
    "        xlab = \"Standard deviations\", ylab = \"Average log2FC\",\n",
    "        pch = 20)\n",
    "abline(h = 2, col = \"red\", lty = \"dashed\")\n",
    "abline(h = -2, col = \"green\", lty = \"dashed\")"
   ]
  },
  {
   "cell_type": "markdown",
   "metadata": {},
   "source": [
    "### Q4. What is the effect of Bonferroni correction? How many genes are up- or down-regulated?"
   ]
  },
  {
   "cell_type": "markdown",
   "metadata": {},
   "source": [
    "Perform Differential Expression analysis with a Student t-test:"
   ]
  },
  {
   "cell_type": "code",
   "execution_count": null,
   "metadata": {},
   "outputs": [],
   "source": [
    "# t-values\n",
    "tval <- averageLog/(sdValues/sqrt(ncol(dataArrays))) "
   ]
  },
  {
   "cell_type": "markdown",
   "metadata": {},
   "source": [
    "Compute t-threshold for Type I error $\\alpha = 5\\%$"
   ]
  },
  {
   "cell_type": "code",
   "execution_count": null,
   "metadata": {},
   "outputs": [],
   "source": [
    "alpha=0.05\n",
    "critical_0.05_t <- qt(1 - alpha/2, 4 - 1)  \n",
    "# Number of genes with pval < 5%\n",
    "length(tval[which(abs(tval) > critical_0.05_t)]) \n",
    "# Number of genes upregulated with pval < 5%\n",
    "length(tval[which(tval > critical_0.05_t)]) \n",
    "# Number of genes downregulated with pval < 5%\n",
    "length(tval[which(tval < -critical_0.05_t)]) "
   ]
  },
  {
   "cell_type": "markdown",
   "metadata": {},
   "source": [
    "Same procedure with $\\alpha = 1\\%$:"
   ]
  },
  {
   "cell_type": "code",
   "execution_count": null,
   "metadata": {},
   "outputs": [],
   "source": [
    "alpha=0.0001\n",
    "critical_0.0001_t <- qt(1 - alpha/2, 4 - 1)\n",
    "length(tval[which(abs(tval) > critical_0.0001_t)])\n",
    "length(tval[which(tval > critical_0.0001_t)])\n",
    "length(tval[which(tval < -critical_0.0001_t)])"
   ]
  },
  {
   "cell_type": "markdown",
   "metadata": {},
   "source": [
    "Same Student test with Bonferroni correction and Type I error at $\\alpha=5\\%$:"
   ]
  },
  {
   "cell_type": "code",
   "execution_count": null,
   "metadata": {},
   "outputs": [],
   "source": [
    "alpha=0.05\n",
    "critical_bonf_t <- qt(1 - (alpha/(2*length(tval))), 4 - 1) \n",
    "length(tval[which(abs(tval) > critical_bonf_t )])\n",
    "length(tval[which(tval > critical_bonf_t )])\n",
    "length(tval[which(tval < -critical_bonf_t )])\n",
    "## Genes which t-values are above, resp. below, the critical threshold at alpha=5% adjusted using the Bonferroni correction\n",
    "upGenes.t <- names(tval[which(tval > critical_bonf_t )])\n",
    "downGenes.t <- names(tval[which(tval < -critical_bonf_t )])"
   ]
  },
  {
   "cell_type": "markdown",
   "metadata": {},
   "source": [
    "Now, plot the t-values and fold changes (FC), and highlight the aforementioned DE genes:"
   ]
  },
  {
   "cell_type": "code",
   "execution_count": null,
   "metadata": {},
   "outputs": [],
   "source": [
    "plot(averageLog, tval,\n",
    "        main = \"C. parapsilosis - Microarrays dataset\",\n",
    "        ylab = \"tval (Student parameter)\", xlab = \"LogFC (average value)\",\n",
    "        pch = 20)\n",
    "abline(h = 0, col = \"black\")\n",
    "abline(v = 0, col = \"black\")\n",
    "abline(h = critical_bonf_t, col = \"red\", lty = \"dashed\")\n",
    "abline(h = -critical_bonf_t, col = \"green\", lty = \"dashed\")\n",
    "points(averageLog[upGenes.t],tval[upGenes.t], col = \"red\", pch = 20)\n",
    "points(averageLog[downGenes.t],tval[downGenes.t], col = \"green\", pch = 20)"
   ]
  },
  {
   "cell_type": "markdown",
   "metadata": {},
   "source": [
    "### Q5. Do the FC values change using limma? How do the moderated t-statistics of limma behave compared to Student t-statistics and to the initial standard deviation? Is that satisfactory?"
   ]
  },
  {
   "cell_type": "markdown",
   "metadata": {},
   "source": [
    "Perform Differential Expression analysis using **limma**:"
   ]
  },
  {
   "cell_type": "code",
   "execution_count": null,
   "metadata": {},
   "outputs": [],
   "source": [
    "# Linear model estimation\n",
    "fit <- lmFit(dataArrays)\n",
    "# Bayesian statistics\n",
    "limmaRes <- eBayes(fit)\n",
    "limmaTable <- topTable(limmaRes, number = nrow(dataArrays))\n",
    "# Sort genes according to their initial order in dataArrays\n",
    "limmaRes2 <- limmaTable[row.names(dataArrays),]"
   ]
  },
  {
   "cell_type": "markdown",
   "metadata": {},
   "source": [
    "Compare logFC values obtained with **limma**:"
   ]
  },
  {
   "cell_type": "code",
   "execution_count": null,
   "metadata": {},
   "outputs": [],
   "source": [
    "plot(limmaRes2[, \"logFC\"], averageLog, pch = 20, xlab = \"logFC calculated with limma\", ylab = \"LogFC (average value)\")\n",
    "cor.test(limmaRes2[, \"logFC\"], averageLog)"
   ]
  },
  {
   "cell_type": "markdown",
   "metadata": {},
   "source": [
    "Compare t-values from **limma** with the t-values obtained with the Student's test with regard to FC:"
   ]
  },
  {
   "cell_type": "code",
   "execution_count": null,
   "metadata": {},
   "outputs": [],
   "source": [
    "plot(averageLog, tval,\n",
    "        main = \"C. parapsilosis - Microarrays dataset\",\n",
    "        ylab = \"t (Student in black and limma in purple)\", xlab = \"LogFC (average value)\",\n",
    "        pch = 20)\n",
    "points(averageLog, limmaRes2[,\"t\"], pch = 20, col = \"purple\")\n",
    "abline(h = 0, col = \"black\")\n",
    "abline(v = 0, col = \"black\")"
   ]
  },
  {
   "cell_type": "markdown",
   "metadata": {},
   "source": [
    "Compare t-statistic from **limma** with the t-values obtained with the Student's test with regard to (gene expression value) standard deviation:"
   ]
  },
  {
   "cell_type": "code",
   "execution_count": null,
   "metadata": {},
   "outputs": [],
   "source": [
    "plot(sdValues, tval,\n",
    "        main = \"C. parapsilosis - Microarrays dataset\",\n",
    "        ylab = \"t (Student in black and LIMMA in purple)\", xlab = \"Standard deviation\",\n",
    "        pch = 20)\n",
    "points(sdValues, limmaRes2[,\"t\"], pch = 20, col = \"purple\")\n",
    "abline(h = 0, col = \"black\")"
   ]
  },
  {
   "cell_type": "markdown",
   "metadata": {},
   "source": [
    "### Q6. With **limma** and an adjusted type I error of $\\alpha=0.0001$, how many genes are DE? up-regulated? down-regulated? Are they the same genes as the ones found using the Student's tests?"
   ]
  },
  {
   "cell_type": "code",
   "execution_count": null,
   "metadata": {},
   "outputs": [],
   "source": [
    "# genes differentially expressed with microarrays\n",
    "alpha=0.0001\n",
    "## Number of genes with an adjusted p-value < alpha\n",
    "length(which(limmaRes2$adj.P.Val < alpha))\n",
    "## Number of genes with an adjusted p-value < alpha *and a positive log(FC)*\n",
    "dim(limmaRes2[which(limmaRes2$adj.P.Val < alpha & limmaRes2$logFC > 0),])[1]\n",
    "upGenes.limma <- limmaRes2[which(limmaRes2$adj.P.Val < alpha & limmaRes2$logFC > 0),]\n",
    "downGenes.limma <- limmaRes2[which(limmaRes2$adj.P.Val < alpha & limmaRes2$logFC < 0),]"
   ]
  },
  {
   "cell_type": "markdown",
   "metadata": {},
   "source": [
    "In order to visualize the genes according to their DE *p*-value and FC, we will generate a volcano plot: "
   ]
  },
  {
   "cell_type": "code",
   "execution_count": null,
   "metadata": {},
   "outputs": [],
   "source": [
    "plot(-log10(limmaRes2$adj.P.Val) ~ limmaRes2$logFC, pch = \"\", xlim = c(-6,6),ylim = c(0,7),\n",
    "     xlab = \"\",ylab = \"\",bty = \"n\",xaxt = \"n\", yaxt = \"n\"  )\n",
    "title(\"Hypoxia versus Normoxia\", font.main = 1, cex.main = 0.9)\n",
    "axis(1, at = -6:6, tcl = -0.5,cex = 0.7, labels = F )\n",
    "mtext(-6:6,side = 1,line = 1,at = -6:6, cex = 0.7)\n",
    "axis(2, at = 0:7, tcl = -0.2, cex = 0.7, labels = F )\n",
    "mtext(0:7,side = 2,line = 0.5, at = 0:7, cex = 0.7)\n",
    "## Color in grey genes\n",
    "points(-log10(limmaRes2$adj.P.Val) ~ limmaRes2$logFC, pch = 16, cex = 0.5, col = \"grey\")\n",
    "## Override the previous colouring for some genes according to the fact they are DE\n",
    "points(-log10(upGenes.limma$adj.P.Val) ~ upGenes.limma$logFC,pch = 16, cex = 0.5, col = \"red\")\n",
    "points(-log10(downGenes.limma$adj.P.Val) ~ downGenes.limma$logFC, pch = 16,cex = 0.5, col = \"green\")\n",
    "mtext(\"log2(FC)\", side = 1, line = 2, cex = 0.8)\n",
    "mtext(\"-log10 (adjusted p-value)\", side = 2, line = 1.5, cex = 0.8)"
   ]
  },
  {
   "cell_type": "markdown",
   "metadata": {},
   "source": [
    "Let's compare these up- and down-regulated genes with the ones obtained through the Student's tests:"
   ]
  },
  {
   "cell_type": "code",
   "execution_count": null,
   "metadata": {},
   "outputs": [],
   "source": [
    "length(intersect(downGenes.t,row.names(upGenes.limma)))\n",
    "length(setdiff(row.names(downGenes.limma), upGenes.t))\n",
    "length(setdiff(downGenes.t,row.names(upGenes.limma)))\n",
    "length(intersect(downGenes.t,row.names(downGenes.limma)))\n",
    "length(setdiff(row.names(downGenes.limma), downGenes.t))\n",
    "length(setdiff(downGenes.t,row.names(downGenes.limma)))"
   ]
  },
  {
   "cell_type": "markdown",
   "metadata": {},
   "source": [
    "Compare ranks of genes in both analyses (**limma** and Student's test):"
   ]
  },
  {
   "cell_type": "code",
   "execution_count": null,
   "metadata": {},
   "outputs": [],
   "source": [
    "sortedtval <- names(sort(abs(tval),decreasing = TRUE))\n",
    "sortedtval <- data.frame(sortedtval,1:length(sortedtval), stringsAsFactors = F)\n",
    "names(sortedtval)[2] <- \"rank.t\"   \n",
    "limmaTable$rank.limma <- 1:length(row.names(limmaTable))\n",
    "limmaTable$gene <- row.names(limmaTable)"
   ]
  },
  {
   "cell_type": "markdown",
   "metadata": {},
   "source": [
    "Combine all microarray results in a single dataframe:"
   ]
  },
  {
   "cell_type": "code",
   "execution_count": null,
   "metadata": {},
   "outputs": [],
   "source": [
    "dataArrays.analyzed <- data.frame(dataArrays,averageLog,sdValues,tval)\n",
    "dataArrays.analyzed$gene <- row.names(dataArrays.analyzed)\n",
    "dataArrays.analyzed <- merge(dataArrays.analyzed, sortedtval, by.x = \"gene\", by.y = \"sortedtval\", all = T, sort = F)\n",
    "dataArrays.analyzed <- merge(dataArrays.analyzed, limmaTable, by = \"gene\", all = T, sort = F)"
   ]
  },
  {
   "cell_type": "markdown",
   "metadata": {},
   "source": [
    "Plot ranks of genes in the Student's analysis versus **limma**:"
   ]
  },
  {
   "cell_type": "code",
   "execution_count": null,
   "metadata": {},
   "outputs": [],
   "source": [
    "plot(dataArrays.analyzed$rank.limma ~dataArrays.analyzed$rank.t, pch = 16, cex = 0.35, xlab = \"rank.t\", ylab = \"rank.limma\")"
   ]
  },
  {
   "cell_type": "markdown",
   "metadata": {},
   "source": [
    "Save the final dataframe containing the results in your working directory:"
   ]
  },
  {
   "cell_type": "code",
   "execution_count": null,
   "metadata": {},
   "outputs": [],
   "source": [
    "write.table(dataArrays.analyzed, quote = F, sep = \"\\t\", file = \"Microarrays_diffAnalysis.txt\", row.name = F)"
   ]
  },
  {
   "cell_type": "markdown",
   "metadata": {},
   "source": [
    "## III - Differential analysis with RNA Seq experiments (count data)"
   ]
  },
  {
   "cell_type": "markdown",
   "metadata": {},
   "source": [
    "### Q7. Are the RNASeq data normalised?"
   ]
  },
  {
   "cell_type": "markdown",
   "metadata": {},
   "source": [
    "Compute the logFC values using the read counts:"
   ]
  },
  {
   "cell_type": "code",
   "execution_count": null,
   "metadata": {},
   "outputs": [],
   "source": [
    "# Mean values for normoxic and hypoxic replicates\n",
    "meanNcounts = apply(dataRNAseq[,1:6], 1, mean)\n",
    "meanHcounts = apply(dataRNAseq[,7:10], 1, mean)\n",
    "# logFC (raw data)\n",
    "logFC = log2((meanHcounts + 1)/(meanNcounts + 1))"
   ]
  },
  {
   "cell_type": "markdown",
   "metadata": {},
   "source": [
    "Le's plot the distribution of log(FC) (raw data):"
   ]
  },
  {
   "cell_type": "code",
   "execution_count": null,
   "metadata": {},
   "outputs": [],
   "source": [
    "hist(logFC, nclass = 100, main = \"logFC (H/N) distribution \\n(raw data)\", xlab = \"log(H/N) value\", freq=F)\n",
    "abline(v = 0, col = \"red\")"
   ]
  },
  {
   "cell_type": "markdown",
   "metadata": {},
   "source": [
    "### Q8. What are the library effect sizes? Are they consistent with the library sizes?"
   ]
  },
  {
   "cell_type": "markdown",
   "metadata": {},
   "source": [
    "Let's normalise the read count data using DESeq:"
   ]
  },
  {
   "cell_type": "code",
   "execution_count": null,
   "metadata": {},
   "outputs": [],
   "source": [
    "# create metadata: qualitative and quantitative information about the data different from the expression values\n",
    "conds = c(rep(\"N\",6), rep(\"H\",4))\n",
    "expDesign = data.frame(row.names = colnames(dataRNAseq), \n",
    "                       condition = conds,\n",
    "                       libType   = rep(\"RNAseq\", 10))"
   ]
  },
  {
   "cell_type": "code",
   "execution_count": null,
   "metadata": {},
   "outputs": [],
   "source": [
    "# create a countDataSet: specific R object in DESeq to manipulate expression datasets\n",
    "cds = newCountDataSet(dataRNAseq, expDesign$condition)"
   ]
  },
  {
   "cell_type": "code",
   "execution_count": null,
   "metadata": {},
   "outputs": [],
   "source": [
    "# Estimate normalization factors\n",
    "cds = estimateSizeFactors(cds)\n",
    "# Inspect size factors\n",
    "sizeFactors(cds)\n",
    "summary(sizeFactors(cds))"
   ]
  },
  {
   "cell_type": "code",
   "execution_count": null,
   "metadata": {},
   "outputs": [],
   "source": [
    "apply(dataRNAseq, 2, sum)\n",
    "sort(sizeFactors(cds))\n",
    "sort(apply(dataRNAseq, 2,  sum))"
   ]
  },
  {
   "cell_type": "code",
   "execution_count": null,
   "metadata": {},
   "outputs": [],
   "source": [
    "cor.test(sizeFactors(cds),apply(dataRNAseq, 2,  sum), method=\"s\")\n",
    "plot(sizeFactors(cds),apply(dataRNAseq, 2,  sum))"
   ]
  },
  {
   "cell_type": "markdown",
   "metadata": {},
   "source": [
    "### Q9. Are you satisfied by the normalisation performed?"
   ]
  },
  {
   "cell_type": "code",
   "execution_count": null,
   "metadata": {},
   "outputs": [],
   "source": [
    "# Get normalized count values\n",
    "cdsNorm <- counts(cds, normalized = TRUE)\n",
    "# Mean values\n",
    "meanNcountsNorm <- apply(cdsNorm[,1:6], 1, mean)\n",
    "meanHcountsNorm <- apply(cdsNorm[,7:10], 1, mean)\n",
    "# standard deviation (sd) values for log(H/N) replicates\n",
    "sdNcountsNorm   <- apply(cdsNorm[,1:6], 1, sd)\n",
    "sdHcountsNorm   <- apply(cdsNorm[,7:10], 1, sd)\n",
    "# logFC (after normalization)\n",
    "logFCNorm = log2((meanHcountsNorm + 1)/(meanNcountsNorm + 1))"
   ]
  },
  {
   "cell_type": "code",
   "execution_count": null,
   "metadata": {},
   "outputs": [],
   "source": [
    "hist(logFCNorm, nclass = 100, main = \"logFC (H/N) distribution \\n(normalized data)\", xlab = \"log(H/N) value\")\n",
    "abline(v = 0, col = \"red\")"
   ]
  },
  {
   "cell_type": "markdown",
   "metadata": {},
   "source": [
    "### Q9. How many genes are differentially expressed at the adjusted type I error of 0.0001? up-regulated ? down-regulated?"
   ]
  },
  {
   "cell_type": "markdown",
   "metadata": {},
   "source": [
    "Let's perform the DE analysis with DESeq! First we need to estimate the gene dispersions:"
   ]
  },
  {
   "cell_type": "code",
   "execution_count": null,
   "metadata": {},
   "outputs": [],
   "source": [
    "## Takes some time\n",
    "cds = estimateDispersions(cds)\n",
    "# To inspect the intermediate steps, a fitInfo object is stored\n",
    "# which contains the per genes estimate, the fitted curve\n",
    "# and the values that will subsequently be used for inference.\n",
    "str(fitInfo(cds))"
   ]
  },
  {
   "cell_type": "markdown",
   "metadata": {},
   "source": [
    "Let's visualise the gene dispersions: we can observe that genes with low expression exhibit higher levels of variability (dispersion)."
   ]
  },
  {
   "cell_type": "code",
   "execution_count": null,
   "metadata": {},
   "outputs": [],
   "source": [
    "plotDispEsts(cds)"
   ]
  },
  {
   "cell_type": "markdown",
   "metadata": {},
   "source": [
    "The function which performs the differential analysis by itself (this step takes a few seconds to be performed, and returns a dataframe similar to the one we merged for the microarray data):"
   ]
  },
  {
   "cell_type": "code",
   "execution_count": null,
   "metadata": {},
   "outputs": [],
   "source": [
    "res <- nbinomTest(cds, \"N\", \"H\")"
   ]
  },
  {
   "cell_type": "code",
   "execution_count": null,
   "metadata": {},
   "outputs": [],
   "source": [
    "# reorder according to the adjusted p-values\n",
    "res_ordered <- res[order(res$padj),]\n",
    "\n",
    "# filter according to p-values < 0.0001\n",
    "resSig <- res[ res$padj < 0.0001, ]\n",
    "nrow(resSig)\n",
    "table(resSig$log2FoldChange > 0)\n",
    "\n",
    "# the most significant:\n",
    "head( resSig[ order(resSig$pval), ] )\n",
    "head( resSig[ order( resSig$foldChange, -resSig$baseMean ), ] )\n",
    "head( resSig[ order( -resSig$foldChange, -resSig$baseMean ), ] )"
   ]
  },
  {
   "cell_type": "markdown",
   "metadata": {},
   "source": [
    "Let's plot a heatmap of the normalised expression values of the most significant genes:"
   ]
  },
  {
   "cell_type": "code",
   "execution_count": null,
   "metadata": {},
   "outputs": [],
   "source": [
    "top_DGE_rnaseq <- cdsNorm[which(row.names(cdsNorm) %in% resSig$id),]\n",
    "dim(top_DGE_rnaseq)\n",
    "coolmap(top_DGE_rnaseq, col = \"yellowblue\", cexCol = 0.6, cexRow = 0.2 )"
   ]
  },
  {
   "cell_type": "markdown",
   "metadata": {},
   "source": [
    "As done for the microarray data, let's save the differential analysis results:"
   ]
  },
  {
   "cell_type": "code",
   "execution_count": null,
   "metadata": {},
   "outputs": [],
   "source": [
    "write.table(res, \"RNASeq_DiffAnalysis.txt\", row.name = F, quote = F, sep = '\\t')"
   ]
  },
  {
   "cell_type": "markdown",
   "metadata": {},
   "source": [
    "## IV - Compare RNASeq and microarray DE results"
   ]
  },
  {
   "cell_type": "code",
   "execution_count": null,
   "metadata": {},
   "outputs": [],
   "source": [
    "# Merge the DE results from microarray and RNASeq data:\n",
    "arrays_rnaseq <- merge(dataArrays.analyzed, res, by.x=\"gene\",by.y=\"id\",sort=F,all=T)\n",
    "write.table(arrays_rnaseq, \"Arrays_RNASeq_DiffAnalysis.txt\", row.name = F, quote = F, sep = '\\t')"
   ]
  },
  {
   "cell_type": "markdown",
   "metadata": {},
   "source": [
    "### Q10. Which are the 20 differentially expressed genes we would like to study further? "
   ]
  },
  {
   "cell_type": "markdown",
   "metadata": {},
   "source": [
    "Use either R or a calculator to select your candidate genes, according to what you deem important (p-values, FC, ...)"
   ]
  },
  {
   "cell_type": "code",
   "execution_count": null,
   "metadata": {},
   "outputs": [],
   "source": [
    "## TODO"
   ]
  },
  {
   "cell_type": "markdown",
   "metadata": {},
   "source": [
    "An example:"
   ]
  },
  {
   "cell_type": "code",
   "execution_count": null,
   "metadata": {},
   "outputs": [],
   "source": [
    "Ntop=20\n",
    "alpha=0.0001\n",
    "# Commands to extract your 20 top genes according to your criteria:\n",
    "both_ <- subset(arrays_rnaseq, adj.P.Val < alpha & padj < alpha)\n",
    "dim(both_)\n",
    "head(both_)\n",
    "abs(both_$log2FoldChange)\n",
    "sort(abs(both_$log2FoldChange))\n",
    "sort(abs(both_$log2FoldChange), decreasing=T)\n",
    "sort(abs(both_$log2FoldChange), decreasing=T)[Ntop]\n",
    "FC_threshold <- sort(abs(both_$log2FoldChange), decreasing=T)[Ntop]\n",
    "subset(both_, abs(log2FoldChange) >= FC_threshold)\n",
    "our20genes <- subset(both_, abs(log2FoldChange) >= FC_threshold)\n",
    "write.table(our20genes, \"our20genes.txt\", row.name = F, quote = F, sep = '\\t')"
   ]
  },
  {
   "cell_type": "markdown",
   "metadata": {},
   "source": [
    "Some cleaning /!\\ Do not run if you want to keep the DE results obtained in the TPs!"
   ]
  },
  {
   "cell_type": "code",
   "execution_count": null,
   "metadata": {},
   "outputs": [],
   "source": [
    "file.remove(\"Microarrays_diffAnalysis.txt\")\n",
    "file.remove(\"RNASeq_DiffAnalysis.txt\")\n",
    "file.remove(\"Arrays_RNASeq_DiffAnalysis.txt\")\n",
    "file.remove(\"our20genes.txt\")"
   ]
  },
  {
   "cell_type": "code",
   "execution_count": null,
   "metadata": {},
   "outputs": [],
   "source": []
  }
 ],
 "metadata": {
  "kernelspec": {
   "display_name": "Python 3",
   "language": "python",
   "name": "python3"
  },
  "language_info": {
   "codemirror_mode": {
    "name": "ipython",
    "version": 3
   },
   "file_extension": ".py",
   "mimetype": "text/x-python",
   "name": "python",
   "nbconvert_exporter": "python",
   "pygments_lexer": "ipython3",
   "version": "3.7.6"
  }
 },
 "nbformat": 4,
 "nbformat_minor": 4
}
